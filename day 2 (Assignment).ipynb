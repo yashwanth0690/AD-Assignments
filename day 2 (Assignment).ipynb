{
 "cells": [
  {
   "cell_type": "code",
   "execution_count": 9,
   "id": "9f5df650-82d4-4aaa-b9cc-9c76fe140134",
   "metadata": {},
   "outputs": [
    {
     "name": "stdout",
     "output_type": "stream",
     "text": [
      "Element at index 0: 10\n",
      "Element at index 2: 30\n",
      "Element at index 4: 50\n"
     ]
    }
   ],
   "source": [
    "# Creating a list with 5 elements\n",
    "my_list = [10, 20, 30, 40, 50]\n",
    "\n",
    "# Accessing elements based on the index\n",
    "print(\"Element at index 0:\", my_list[0])\n",
    "print(\"Element at index 2:\", my_list[2])\n",
    "print(\"Element at index 4:\", my_list[4])\n"
   ]
  },
  {
   "cell_type": "code",
   "execution_count": 11,
   "id": "8cf44a23-4c5e-446a-8fec-aa61e5304b78",
   "metadata": {},
   "outputs": [
    {
     "name": "stdout",
     "output_type": "stream",
     "text": [
      "Element at index 1: banana\n",
      "Element at index 3: date\n"
     ]
    }
   ],
   "source": [
    "# Creating a tuple with 5 elements\n",
    "my_tuple = (\"apple\", \"banana\", \"cherry\", \"date\", \"elderberry\")\n",
    "\n",
    "# Accessing elements based on the index\n",
    "print(\"Element at index 1:\", my_tuple[1])\n",
    "print(\"Element at index 3:\", my_tuple[3])\n"
   ]
  },
  {
   "cell_type": "code",
   "execution_count": 13,
   "id": "7318fedd-141e-43b6-9c83-7fc6e81e9a17",
   "metadata": {},
   "outputs": [
    {
     "name": "stdout",
     "output_type": "stream",
     "text": [
      "Value for key 'name': Alice\n",
      "Value for key 'job': Engineer\n"
     ]
    }
   ],
   "source": [
    "# Creating a dictionary with 5 elements\n",
    "my_dict = {\n",
    "    \"name\": \"Alice\",\n",
    "    \"age\": 25,\n",
    "    \"city\": \"New York\",\n",
    "    \"job\": \"Engineer\",\n",
    "    \"hobby\": \"Reading\"\n",
    "}\n",
    "\n",
    "# Accessing elements based on the key (since dictionaries are not ordered by index)\n",
    "print(\"Value for key 'name':\", my_dict[\"name\"])\n",
    "print(\"Value for key 'job':\", my_dict[\"job\"])\n"
   ]
  },
  {
   "cell_type": "code",
   "execution_count": null,
   "id": "2b227081-a509-41dd-b593-aee06d6b3004",
   "metadata": {},
   "outputs": [],
   "source": []
  }
 ],
 "metadata": {
  "kernelspec": {
   "display_name": "Python [conda env:base] *",
   "language": "python",
   "name": "conda-base-py"
  },
  "language_info": {
   "codemirror_mode": {
    "name": "ipython",
    "version": 3
   },
   "file_extension": ".py",
   "mimetype": "text/x-python",
   "name": "python",
   "nbconvert_exporter": "python",
   "pygments_lexer": "ipython3",
   "version": "3.12.7"
  }
 },
 "nbformat": 4,
 "nbformat_minor": 5
}
